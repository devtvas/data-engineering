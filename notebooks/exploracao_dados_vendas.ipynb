{
 "cells": [
  {
   "cell_type": "code",
   "execution_count": null,
   "id": "7b9f9232",
   "metadata": {
    "vscode": {
     "languageId": "groovy"
    }
   },
   "outputs": [],
   "source": [
    "import pandas as pd\n",
    "import numpy as np\n",
    "\n",
    "# Gerando dados fictícios de vendas\n",
    "np.random.seed(42)\n",
    "num_vendas = 100\n",
    "\n",
    "data = {\n",
    "    'id_venda': range(1, num_vendas + 1),\n",
    "    'data_venda': pd.date_range(start='2024-01-01', periods=num_vendas, freq='D'),\n",
    "    'produto': np.random.choice(['Notebook', 'Mouse', 'Teclado', 'Monitor', 'Headset'], num_vendas),\n",
    "    'quantidade': np.random.randint(1, 10, num_vendas),\n",
    "    'preco_unitario': np.random.uniform(100, 2000, num_vendas).round(2),\n",
    "    'vendedor': np.random.choice(['Ana', 'Bruno', 'Carlos', 'Diana'], num_vendas),\n",
    "    'regiao': np.random.choice(['Sul', 'Sudeste', 'Nordeste', 'Centro-Oeste', 'Norte'], num_vendas)\n",
    "}\n",
    "\n",
    "df_vendas = pd.DataFrame(data)\n",
    "df_vendas['valor_total'] = (df_vendas['quantidade'] * df_vendas['preco_unitario']).round(2)\n",
    "\n",
    "df_vendas.head()"
   ]
  }
 ],
 "metadata": {
  "kernelspec": {
   "display_name": "Python 3",
   "language": "python",
   "name": "python3"
  },
  "language_info": {
   "codemirror_mode": {
    "name": "ipython",
    "version": 3
   },
   "file_extension": ".py",
   "mimetype": "text/x-python",
   "name": "python",
   "nbconvert_exporter": "python",
   "pygments_lexer": "ipython3",
   "version": "3.10.18"
  }
 },
 "nbformat": 4,
 "nbformat_minor": 5
}
